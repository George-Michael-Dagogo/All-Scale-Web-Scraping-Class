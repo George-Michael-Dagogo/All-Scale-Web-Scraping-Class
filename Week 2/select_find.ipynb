{
 "cells": [
  {
   "cell_type": "markdown",
   "metadata": {},
   "source": [
    "# BeautifulSoup4 Search Methods Comparison\n",
    "\n",
    "This notebook compares the four main search methods in BeautifulSoup4:\n",
    "- find() vs find_all()\n",
    "- select_one() vs select()\n",
    "\n",
    "Let's start with some sample HTML to demonstrate the differences:"
   ]
  },
  {
   "cell_type": "code",
   "execution_count": 1,
   "metadata": {},
   "outputs": [],
   "source": [
    "from bs4 import BeautifulSoup\n",
    "\n",
    "html = \"\"\"\n",
    "<html>\n",
    "    <body>\n",
    "        <div class=\"header\">Main Header</div>\n",
    "        <div class=\"content\">\n",
    "            <p class=\"text\">First paragraph</p>\n",
    "            <p class=\"text\">Second paragraph</p>\n",
    "            <p class=\"text highlight\">Highlighted paragraph</p>\n",
    "        </div>\n",
    "        <div id=\"footer\">\n",
    "            <a href=\"#\">Link 1</a>\n",
    "            <a href=\"#\">Link 2</a>\n",
    "        </div>\n",
    "    </body>\n",
    "</html>\n",
    "\"\"\"\n",
    "\n",
    "soup = BeautifulSoup(html, 'html.parser')\n"
   ]
  },
  {
   "cell_type": "markdown",
   "metadata": {},
   "source": [
    "## 1. find() vs find_all()\n",
    "\n",
    "These methods use BeautifulSoup's own searching API and are more flexible with filtering options."
   ]
  },
  {
   "cell_type": "code",
   "execution_count": 5,
   "metadata": {},
   "outputs": [
    {
     "name": "stdout",
     "output_type": "stream",
     "text": [
      "\n",
      "Using find_all():\n",
      "First paragraph\n",
      "Second paragraph\n",
      "Highlighted paragraph\n"
     ]
    }
   ],
   "source": [
    "# # find() - Returns first match or None\n",
    "# first_p = soup.find('p', class_='text')\n",
    "# print('Using find():', first_p.text if first_p else None)\n",
    "\n",
    "# find_all() - Returns list of all matches or empty list\n",
    "all_p = soup.find_all('p', class_ ='text') \n",
    "print('\\nUsing find_all():')\n",
    "for p in all_p:\n",
    "    print(p.text)\n"
   ]
  },
  {
   "cell_type": "markdown",
   "metadata": {},
   "source": [
    "### Key Differences:\n",
    "1. `find()`:\n",
    "   - Returns a single Tag object or None\n",
    "   - Stops searching after first match\n",
    "   - Good for unique elements or when you only need the first match\n",
    "   - More memory efficient for large documents\n",
    "\n",
    "2. `find_all()`:\n",
    "   - Returns a list of Tag objects or empty list\n",
    "   - Searches entire document\n",
    "   - Good for collecting multiple elements\n",
    "   - Can limit results with `limit` parameter"
   ]
  },
  {
   "cell_type": "markdown",
   "metadata": {},
   "source": [
    "## 2. select_one() vs select()\n",
    "\n",
    "These methods use CSS selectors and are often more convenient for complex queries."
   ]
  },
  {
   "cell_type": "code",
   "execution_count": 15,
   "metadata": {},
   "outputs": [
    {
     "name": "stdout",
     "output_type": "stream",
     "text": [
      "Using select_one(): Highlighted paragraph\n"
     ]
    }
   ],
   "source": [
    "# select_one() - Returns first match or None\n",
    "highlighted = soup.select_one('p.text.highlight')\n",
    "print('Using select_one():', highlighted.text if highlighted else None)\n",
    "\n",
    "# # # select() - Returns list of all matches or empty list\n",
    "# all_links = soup.select('#footer a')\n",
    "# print('\\nUsing select():')\n",
    "# for link in all_links:\n",
    "#     print(link.text)\n"
   ]
  },
  {
   "cell_type": "markdown",
   "metadata": {},
   "source": [
    "### Key Differences:\n",
    "1. `select_one()`:\n",
    "   - Returns a single Tag object or None\n",
    "   - Uses CSS selector syntax\n",
    "   - More concise for complex queries\n",
    "   - Good for finding elements with specific hierarchical relationships\n",
    "\n",
    "2. `select()`:\n",
    "   - Returns a list of Tag objects or empty list\n",
    "   - Uses CSS selector syntax\n",
    "   - Can handle complex nested queries\n",
    "   - Good for finding multiple elements with specific patterns"
   ]
  },
  {
   "cell_type": "markdown",
   "metadata": {},
   "source": [
    "## When to Use Each Method\n",
    "\n",
    "1. Use `find()` when:\n",
    "   - You need flexible filtering options\n",
    "   - You want to search by attributes not easily expressed in CSS\n",
    "   - You only need the first matching element\n",
    "\n",
    "2. Use `find_all()` when:\n",
    "   - You need all instances of an element\n",
    "   - You want to iterate over multiple matches\n",
    "   - You need advanced filtering options\n",
    "\n",
    "3. Use `select_one()` when:\n",
    "   - You have complex CSS-style selectors\n",
    "   - You need to match based on hierarchy\n",
    "   - You want more concise syntax\n",
    "\n",
    "4. Use `select()` when:\n",
    "   - You need multiple elements matching CSS patterns\n",
    "   - You want to combine multiple selectors\n",
    "   - You need to match complex nested structures"
   ]
  },
  {
   "cell_type": "code",
   "execution_count": 8,
   "metadata": {},
   "outputs": [
    {
     "name": "stdout",
     "output_type": "stream",
     "text": [
      "\n",
      "Limited find_all(): ['First paragraph', 'Second paragraph']\n",
      "\n",
      "Complex select_one(): Highlighted paragraph\n",
      "\n",
      "Multiple select(): ['Main Header', 'Link 1', 'Link 2']\n"
     ]
    }
   ],
   "source": [
    "# Advanced examples showing the power of each method\n",
    "\n",
    "\n",
    "# find_all() with limit\n",
    "limited_find = soup.find_all('p', limit=2)\n",
    "print('\\nLimited find_all():', [p.text for p in limited_find])\n",
    "\n",
    "# select_one() with complex CSS selector\n",
    "complex_select = soup.select_one('div.content p.text.highlight')\n",
    "print('\\nComplex select_one():', complex_select.text if complex_select else None)\n",
    "\n",
    "# select() with multiple selectors\n",
    "multiple_select = soup.select('div.header, div#footer a')\n",
    "print('\\nMultiple select():', [elem.text for elem in multiple_select])"
   ]
  }
 ],
 "metadata": {
  "kernelspec": {
   "display_name": "Python 3",
   "language": "python",
   "name": "python3"
  },
  "language_info": {
   "name": "python",
   "version": "3.8"
  }
 },
 "nbformat": 4,
 "nbformat_minor": 4
}
