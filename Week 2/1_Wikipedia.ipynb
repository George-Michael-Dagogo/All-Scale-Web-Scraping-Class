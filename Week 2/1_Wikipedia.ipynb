{
 "cells": [
  {
   "cell_type": "code",
   "execution_count": 9,
   "metadata": {},
   "outputs": [],
   "source": [
    "import requests\n",
    "from bs4 import BeautifulSoup"
   ]
  },
  {
   "cell_type": "code",
   "execution_count": 10,
   "metadata": {},
   "outputs": [],
   "source": [
    "url = 'https://en.wikipedia.org/wiki/China'\n",
    "response = requests.get(url)\n",
    "soup = BeautifulSoup(response.content, 'html.parser')\n"
   ]
  },
  {
   "cell_type": "code",
   "execution_count": 11,
   "metadata": {},
   "outputs": [
    {
     "data": {
      "text/plain": [
       "'China - Wikipedia'"
      ]
     },
     "execution_count": 11,
     "metadata": {},
     "output_type": "execute_result"
    }
   ],
   "source": [
    "title = soup.find('title').text\n",
    "title"
   ]
  },
  {
   "cell_type": "markdown",
   "metadata": {},
   "source": [
    "### Getting the exact content that Okoli Ogechi requested in class use index"
   ]
  },
  {
   "cell_type": "code",
   "execution_count": 12,
   "metadata": {},
   "outputs": [
    {
     "name": "stdout",
     "output_type": "stream",
     "text": [
      "For a chronological guide, see \n",
      "Timeline of Chinese history\n",
      ".\n"
     ]
    }
   ],
   "source": [
    "ogechi = soup.find_all('div' , class_ = \"hatnote navigation-not-searchable\")\n",
    "for i in ogechi[3]:\n",
    "    print(i.text)"
   ]
  },
  {
   "cell_type": "markdown",
   "metadata": {},
   "source": [
    "### Using Select One with nth-of-type()"
   ]
  },
  {
   "cell_type": "code",
   "execution_count": 13,
   "metadata": {},
   "outputs": [
    {
     "name": "stdout",
     "output_type": "stream",
     "text": [
      "Main article: History of China\n"
     ]
    }
   ],
   "source": [
    "ogechi = soup.select_one('div.hatnote.navigation-not-searchable:nth-of-type(4)')\n",
    "print(ogechi.text if ogechi else None)"
   ]
  },
  {
   "cell_type": "markdown",
   "metadata": {},
   "source": [
    "### A clients says they want all the picture links in that page"
   ]
  },
  {
   "cell_type": "code",
   "execution_count": 14,
   "metadata": {},
   "outputs": [
    {
     "name": "stdout",
     "output_type": "stream",
     "text": [
      "/wiki/File:CEM-09-Asiae-Nova-Descriptio-China-2510.jpg\n",
      "/wiki/File:National_Museum_of_China_2014.02.01_14-43-38.jpg\n",
      "/wiki/File:%E7%94%B2%E9%AA%A8%E6%96%87%E5%8F%91%E7%8E%B0%E5%9C%B0_-_panoramio.jpg\n",
      "/wiki/File:Han_Expansion.png\n",
      "/wiki/File:Badaling_China_Great-Wall-of-China-01.jpg\n",
      "/wiki/File:Qing_Empire_circa_1820_EN.svg\n",
      "/wiki/File:EightNationsCrime02.jpg\n",
      "/wiki/File:1945_Mao_and_Chiang.jpg\n",
      "/wiki/File:Mao_Proclaiming_New_China.JPG\n",
      "/wiki/File:Ud%C3%A1losti_na_n%C3%A1m%C4%9Bst%C3%AD_Tian_an_men,_%C4%8C%C3%ADna_1989,_foto_Ji%C5%99%C3%AD_Tondl.jpg\n",
      "/wiki/File:One-belt-one-road.svg\n",
      "/wiki/File:East_Asia_topographic_map.png\n",
      "/wiki/File:Koppen-Geiger_Map_CHN_present.svg\n",
      "/wiki/File:Giant_Panda_Eating.jpg\n",
      "/wiki/File:ThreeGorgesDam-China2009.jpg\n",
      "/wiki/File:China_administrative.png\n",
      "/wiki/File:18th_National_Congress_of_the_Communist_Party_of_China.jpg\n",
      "/wiki/File:Diplomatic_relations_of_the_People%27s_Republic_of_China.svg\n",
      "/wiki/File:Russia_and_China_sign_major_gas_deal.jpeg\n",
      "/wiki/File:J-20_at_Airshow_China_2016.jpg\n",
      "/wiki/File:%E6%B8%AF%E4%BA%BA%E7%87%AD%E5%85%89%E9%81%8A%E8%A1%8C%E8%87%B3%E4%B8%AD%E8%81%AF%E8%BE%A6%E6%82%BC%E5%BF%B5%E5%8A%89%E6%9B%89%E6%B3%A2_12.jpg\n",
      "/wiki/File:Xinjiang_Internment_Map,_US-Aus_Gov_Assessment.jpg\n",
      "/wiki/File:Hong_Kong_anti-extradition_bill_protest_(48108594957).jpg\n",
      "/wiki/File:Graph_of_Major_Developing_Economies_by_Real_GDP_per_capita_at_PPP_1990-2013.png\n",
      "/wiki/File:20045-Shanghai-Pano_(cropped).jpg\n",
      "/wiki/File:Chinese_Gunpowder_Formula.JPG\n",
      "/wiki/File:Launch_of_Shenzhou_13.jpg\n",
      "/wiki/File:P1994-2011.gif\n",
      "/wiki/File:Duge_Bridge.jpg\n",
      "/wiki/File:CR400BF-Z-0312@BJI_(20231009152047).jpg\n",
      "/wiki/File:China_Population_Density,_2000_(6171905307).jpg\n",
      "/wiki/File:China_Top_10_Biggest_Cities.png\n",
      "/wiki/File:China_ethnolinguistic_1967.jpg\n",
      "/wiki/File:Lihaozhai_High_School_-_P1360829.JPG\n",
      "/wiki/File:Distribution_of_religions_in_China.png\n",
      "/wiki/File:%E4%B8%AD%E5%9B%BD%E9%81%93%E6%95%99_%E6%8B%9C%E7%AB%A0%E6%98%87%E7%96%8F_01.jpg\n",
      "/wiki/File:13_Peking_University.jpg\n",
      "/wiki/File:China,_Trends_in_the_Human_Development_Index_1970-2010.png\n",
      "/wiki/File:%E7%98%A6%E8%A5%BF%E6%B9%96%E5%B0%8F%E9%87%91%E5%B1%B12017.jpg\n",
      "/wiki/File:Fenghuang_old_town.JPG\n",
      "/wiki/File:Pekin_przedstawienie_tradycjnego_teatru_chinskiego_7.JPG\n",
      "/wiki/File:Cuisines_of_China.png\n",
      "/wiki/File:FloorGoban.JPG\n"
     ]
    }
   ],
   "source": [
    "# Find all <figure> tags with the class 'mw-default-size'\n",
    "all_picture_links = soup.find_all('figure', class_='mw-default-size')\n",
    "\n",
    "# Loop through each <figure> element found\n",
    "for i in all_picture_links:\n",
    "    # Find the first <a> tag within the <figure> that has an href attribute\n",
    "    link = i.find('a', href=True)\n",
    "    # If the <a> tag exists, print the value of the href attribute (the link)\n",
    "    if link:\n",
    "        print(link['href'])"
   ]
  },
  {
   "cell_type": "markdown",
   "metadata": {},
   "source": [
    "### To get everything under contents on the left side of the country page"
   ]
  },
  {
   "cell_type": "code",
   "execution_count": 15,
   "metadata": {},
   "outputs": [
    {
     "name": "stdout",
     "output_type": "stream",
     "text": [
      "(Top)\n",
      "1\n",
      "Etymology\n",
      "2\n",
      "History\n",
      "2.1\n",
      "Prehistory\n",
      "2.2\n",
      "Early dynastic rule\n",
      "2.3\n",
      "Imperial China\n",
      "2.3.1\n",
      "Qin and Han\n",
      "2.3.2\n",
      "Three Kingdoms, Jin, Northern and Southern dynasties\n",
      "2.3.3\n",
      "Sui, Tang and Song\n",
      "2.3.3.1\n",
      "Yuan\n",
      "2.3.4\n",
      "Ming\n",
      "2.3.5\n",
      "Qing\n",
      "2.4\n",
      "Fall of the Qing dynasty\n",
      "2.5\n",
      "Establishment of the Republic and World War II\n",
      "2.6\n",
      "People's Republic\n",
      "2.7\n",
      "Reforms and contemporary history\n",
      "3\n",
      "Geography\n",
      "3.1\n",
      "Climate\n",
      "3.2\n",
      "Biodiversity\n",
      "3.3\n",
      "Environment\n",
      "3.4\n",
      "Political geography\n",
      "4\n",
      "Government and politics\n",
      "4.1\n",
      "Chinese Communist Party\n",
      "4.2\n",
      "Government\n",
      "4.3\n",
      "Administrative divisions\n",
      "4.4\n",
      "Foreign relations\n",
      "4.5\n",
      "Military\n",
      "4.6\n",
      "Sociopolitical issues and human rights\n",
      "4.7\n",
      "Public views of government\n",
      "5\n",
      "Economy\n",
      "5.1\n",
      "Tourism\n",
      "5.2\n",
      "Wealth\n",
      "5.3\n",
      "China in the global economy\n",
      "5.4\n",
      "Science and technology\n",
      "5.4.1\n",
      "Historical\n",
      "5.4.2\n",
      "Modern era\n",
      "5.4.2.1\n",
      "Space program\n",
      "6\n",
      "Infrastructure\n",
      "6.1\n",
      "Telecommunications\n",
      "6.2\n",
      "Transport\n",
      "6.3\n",
      "Water supply and sanitation\n",
      "7\n",
      "Demographics\n",
      "7.1\n",
      "Urbanization\n",
      "7.2\n",
      "Ethnic groups\n",
      "7.3\n",
      "Languages\n",
      "7.4\n",
      "Religion\n",
      "7.5\n",
      "Education\n",
      "7.6\n",
      "Health\n",
      "8\n",
      "Culture and society\n",
      "8.1\n",
      "Architecture\n",
      "8.2\n",
      "Literature\n",
      "8.3\n",
      "Music\n",
      "8.4\n",
      "Fashion\n",
      "8.5\n",
      "Cinema\n",
      "8.6\n",
      "Cuisine\n",
      "8.7\n",
      "Sports\n",
      "9\n",
      "See also\n",
      "10\n",
      "Notes\n",
      "11\n",
      "References\n",
      "12\n",
      "Sources\n",
      "13\n",
      "Further reading\n",
      "14\n",
      "External links\n",
      "14.1\n",
      "Government\n",
      "14.2\n",
      "General information\n",
      "14.3\n",
      "Maps\n"
     ]
    }
   ],
   "source": [
    "toc = soup.find('ul', class_ = 'vector-toc-contents')\n",
    "headings = toc.find_all('div', class_ = 'vector-toc-text')\n",
    "for heading in headings:\n",
    "    print(heading.text.strip())"
   ]
  }
 ],
 "metadata": {
  "language_info": {
   "name": "python"
  }
 },
 "nbformat": 4,
 "nbformat_minor": 2
}
