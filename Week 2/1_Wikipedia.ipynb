{
 "cells": [
  {
   "cell_type": "code",
   "execution_count": 3,
   "metadata": {},
   "outputs": [],
   "source": [
    "import requests\n",
    "from bs4 import BeautifulSoup"
   ]
  },
  {
   "cell_type": "code",
   "execution_count": 4,
   "metadata": {},
   "outputs": [],
   "source": [
    "url = 'https://en.wikipedia.org/wiki/South_Africa'\n",
    "response = requests.get(url)\n",
    "soup = BeautifulSoup(response.content, 'html.parser')\n"
   ]
  },
  {
   "cell_type": "code",
   "execution_count": 5,
   "metadata": {},
   "outputs": [
    {
     "data": {
      "text/plain": [
       "'South Africa - Wikipedia'"
      ]
     },
     "execution_count": 5,
     "metadata": {},
     "output_type": "execute_result"
    }
   ],
   "source": [
    "title = soup.find('title').text\n",
    "title"
   ]
  },
  {
   "cell_type": "markdown",
   "metadata": {},
   "source": [
    "### Getting the exact content that Okoli Ogechi requested in class use index"
   ]
  },
  {
   "cell_type": "code",
   "execution_count": 10,
   "metadata": {},
   "outputs": [
    {
     "name": "stdout",
     "output_type": "stream",
     "text": [
      "Main article: \n",
      "History of South Africa\n"
     ]
    }
   ],
   "source": [
    "ogechi = soup.find_all('div' , class_ = \"hatnote navigation-not-searchable\")\n",
    "for i in ogechi[3]:\n",
    "    print(i.text)"
   ]
  },
  {
   "cell_type": "markdown",
   "metadata": {},
   "source": [
    "### Using Select One with nth-of-type()"
   ]
  },
  {
   "cell_type": "code",
   "execution_count": 11,
   "metadata": {},
   "outputs": [
    {
     "name": "stdout",
     "output_type": "stream",
     "text": [
      "Main article: History of South Africa\n"
     ]
    }
   ],
   "source": [
    "ogechi = soup.select_one('div.hatnote.navigation-not-searchable:nth-of-type(4)')\n",
    "print(ogechi.text if ogechi else None)"
   ]
  },
  {
   "cell_type": "markdown",
   "metadata": {},
   "source": [
    "### A clients says they want all the picture links in that page"
   ]
  },
  {
   "cell_type": "code",
   "execution_count": null,
   "metadata": {},
   "outputs": [],
   "source": [
    "# Find all <figure> tags with the class 'mw-default-size'\n",
    "all_picture_links = soup.find_all('figure', class_='mw-default-size')\n",
    "\n",
    "# Loop through each <figure> element found\n",
    "for i in all_picture_links:\n",
    "    # Find the first <a> tag within the <figure> that has an href attribute\n",
    "    link = i.find('a', href=True)\n",
    "    # If the <a> tag exists, print the value of the href attribute (the link)\n",
    "    if link:\n",
    "        print(link['href'])"
   ]
  },
  {
   "cell_type": "markdown",
   "metadata": {},
   "source": [
    "### To get everything under contents on the left side of the country page"
   ]
  },
  {
   "cell_type": "code",
   "execution_count": 14,
   "metadata": {},
   "outputs": [
    {
     "name": "stdout",
     "output_type": "stream",
     "text": [
      "(Top)\n",
      "1\n",
      "Etymology\n",
      "2\n",
      "History\n",
      "2.1\n",
      "Prehistoric archaeology\n",
      "2.2\n",
      "Bantu expansion\n",
      "2.3\n",
      "Mapungubwe\n",
      "2.4\n",
      "Portuguese exploration\n",
      "2.5\n",
      "Dutch colonisation\n",
      "2.6\n",
      "British colonisation, the Mfecane, and the Great Trek\n",
      "2.7\n",
      "Boer Wars\n",
      "2.8\n",
      "Independence\n",
      "2.9\n",
      "Apartheid era\n",
      "2.10\n",
      "Post-apartheid\n",
      "3\n",
      "Geography\n",
      "3.1\n",
      "Climate\n",
      "3.2\n",
      "Biodiversity\n",
      "4\n",
      "Demographics\n",
      "4.1\n",
      "Languages\n",
      "4.2\n",
      "Religion\n",
      "4.3\n",
      "Education\n",
      "4.4\n",
      "Health\n",
      "4.4.1\n",
      "HIV/AIDS\n",
      "4.5\n",
      "Urbanisation\n",
      "5\n",
      "Government and politics\n",
      "5.1\n",
      "Foreign relations\n",
      "5.2\n",
      "Military\n",
      "5.3\n",
      "Law enforcement and crime\n",
      "5.4\n",
      "Administrative divisions\n",
      "6\n",
      "Economy\n",
      "6.1\n",
      "Mining\n",
      "6.2\n",
      "Tourism\n",
      "7\n",
      "Infrastructure\n",
      "7.1\n",
      "Roads\n",
      "7.2\n",
      "Railways\n",
      "7.3\n",
      "Airports\n",
      "7.4\n",
      "Energy\n",
      "7.4.1\n",
      "Energy crisis\n",
      "7.5\n",
      "Science and technology\n",
      "7.6\n",
      "Transport\n",
      "7.7\n",
      "Water supply and sanitation\n",
      "8\n",
      "Culture\n",
      "8.1\n",
      "Arts\n",
      "8.2\n",
      "Popular culture\n",
      "8.3\n",
      "Literature\n",
      "8.4\n",
      "Cuisine\n",
      "8.5\n",
      "Sports\n",
      "9\n",
      "See also\n",
      "10\n",
      "References\n",
      "11\n",
      "Further reading\n",
      "12\n",
      "External links\n"
     ]
    }
   ],
   "source": [
    "toc = soup.find('ul', class_ = 'vector-toc-contents')\n",
    "headings = toc.find_all('div', class_ = 'vector-toc-text')\n",
    "for heading in headings:\n",
    "    print(heading.text.strip())"
   ]
  }
 ],
 "metadata": {
  "language_info": {
   "name": "python"
  }
 },
 "nbformat": 4,
 "nbformat_minor": 2
}
