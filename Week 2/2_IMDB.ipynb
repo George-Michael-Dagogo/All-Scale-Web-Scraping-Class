{
 "cells": [
  {
   "cell_type": "code",
   "execution_count": 31,
   "metadata": {},
   "outputs": [
    {
     "name": "stdout",
     "output_type": "stream",
     "text": [
      "Requirement already satisfied: fake_useragent in /home/gitpod/.pyenv/versions/3.12.7/lib/python3.12/site-packages (2.0.3)\n",
      "Requirement already satisfied: pandas in /home/gitpod/.pyenv/versions/3.12.7/lib/python3.12/site-packages (2.2.3)\n",
      "Requirement already satisfied: numpy>=1.26.0 in /home/gitpod/.pyenv/versions/3.12.7/lib/python3.12/site-packages (from pandas) (2.2.1)\n",
      "Requirement already satisfied: python-dateutil>=2.8.2 in /home/gitpod/.pyenv/versions/3.12.7/lib/python3.12/site-packages (from pandas) (2.9.0.post0)\n",
      "Requirement already satisfied: pytz>=2020.1 in /home/gitpod/.pyenv/versions/3.12.7/lib/python3.12/site-packages (from pandas) (2024.2)\n",
      "Requirement already satisfied: tzdata>=2022.7 in /home/gitpod/.pyenv/versions/3.12.7/lib/python3.12/site-packages (from pandas) (2024.2)\n",
      "Requirement already satisfied: six>=1.5 in /home/gitpod/.pyenv/versions/3.12.7/lib/python3.12/site-packages (from python-dateutil>=2.8.2->pandas) (1.16.0)\n",
      "\n",
      "\u001b[1m[\u001b[0m\u001b[34;49mnotice\u001b[0m\u001b[1;39;49m]\u001b[0m\u001b[39;49m A new release of pip is available: \u001b[0m\u001b[31;49m24.2\u001b[0m\u001b[39;49m -> \u001b[0m\u001b[32;49m24.3.1\u001b[0m\n",
      "\u001b[1m[\u001b[0m\u001b[34;49mnotice\u001b[0m\u001b[1;39;49m]\u001b[0m\u001b[39;49m To update, run: \u001b[0m\u001b[32;49mpip install --upgrade pip\u001b[0m\n",
      "Note: you may need to restart the kernel to use updated packages.\n"
     ]
    }
   ],
   "source": [
    "pip install fake_useragent pandas"
   ]
  },
  {
   "cell_type": "code",
   "execution_count": 32,
   "metadata": {},
   "outputs": [],
   "source": [
    "import requests\n",
    "from bs4 import BeautifulSoup\n",
    "from fake_useragent import UserAgent\n",
    "import pandas as pd\n"
   ]
  },
  {
   "cell_type": "code",
   "execution_count": 33,
   "metadata": {},
   "outputs": [],
   "source": [
    "url = 'https://www.imdb.com/chart/boxoffice/?ref_=nv_ch_cht'\n",
    "ua = UserAgent()\n",
    "userAgent = ua.random\n",
    "headers = {'User-Agent': userAgent}\n",
    "page = requests.get(url, headers = headers)\n",
    "soup = BeautifulSoup(page.content, 'html.parser')\n"
   ]
  },
  {
   "cell_type": "code",
   "execution_count": 34,
   "metadata": {},
   "outputs": [
    {
     "data": {
      "text/html": [
       "<div>\n",
       "<style scoped>\n",
       "    .dataframe tbody tr th:only-of-type {\n",
       "        vertical-align: middle;\n",
       "    }\n",
       "\n",
       "    .dataframe tbody tr th {\n",
       "        vertical-align: top;\n",
       "    }\n",
       "\n",
       "    .dataframe thead th {\n",
       "        text-align: right;\n",
       "    }\n",
       "</style>\n",
       "<table border=\"1\" class=\"dataframe\">\n",
       "  <thead>\n",
       "    <tr style=\"text-align: right;\">\n",
       "      <th></th>\n",
       "      <th>title</th>\n",
       "      <th>number</th>\n",
       "      <th>rate_vote</th>\n",
       "    </tr>\n",
       "  </thead>\n",
       "  <tbody>\n",
       "    <tr>\n",
       "      <th>0</th>\n",
       "      <td>1. Den of Thieves: Pantera</td>\n",
       "      <td>Weekend Gross: $15MTotal Gross: $16MWeeks Rele...</td>\n",
       "      <td>6.6 (2.7K)</td>\n",
       "    </tr>\n",
       "    <tr>\n",
       "      <th>1</th>\n",
       "      <td>2. Mufasa: The Lion King</td>\n",
       "      <td>Weekend Gross: $14MTotal Gross: $191MWeeks Rel...</td>\n",
       "      <td>6.7 (29K)</td>\n",
       "    </tr>\n",
       "    <tr>\n",
       "      <th>2</th>\n",
       "      <td>3. Sonic the Hedgehog 3</td>\n",
       "      <td>Weekend Gross: $11MTotal Gross: $206MWeeks Rel...</td>\n",
       "      <td>7.2 (26K)</td>\n",
       "    </tr>\n",
       "    <tr>\n",
       "      <th>3</th>\n",
       "      <td>4. Nosferatu</td>\n",
       "      <td>Weekend Gross: $6.9MTotal Gross: $83MWeeks Rel...</td>\n",
       "      <td>7.6 (79K)</td>\n",
       "    </tr>\n",
       "    <tr>\n",
       "      <th>4</th>\n",
       "      <td>5. Moana 2</td>\n",
       "      <td>Weekend Gross: $6.5MTotal Gross: $435MWeeks Re...</td>\n",
       "      <td>7.0 (63K)</td>\n",
       "    </tr>\n",
       "    <tr>\n",
       "      <th>5</th>\n",
       "      <td>6. A Complete Unknown</td>\n",
       "      <td>Weekend Gross: $5.1MTotal Gross: $52MWeeks Rel...</td>\n",
       "      <td>7.8 (12K)</td>\n",
       "    </tr>\n",
       "    <tr>\n",
       "      <th>6</th>\n",
       "      <td>7. Wicked: Part I</td>\n",
       "      <td>Weekend Gross: $5.1MTotal Gross: $459MWeeks Re...</td>\n",
       "      <td>7.8 (104K)</td>\n",
       "    </tr>\n",
       "    <tr>\n",
       "      <th>7</th>\n",
       "      <td>8. Babygirl</td>\n",
       "      <td>Weekend Gross: $3.1MTotal Gross: $22MWeeks Rel...</td>\n",
       "      <td>6.6 (12K)</td>\n",
       "    </tr>\n",
       "    <tr>\n",
       "      <th>8</th>\n",
       "      <td>9. Game Changer</td>\n",
       "      <td>Weekend Gross: $2.1MTotal Gross: $2.1MWeeks Re...</td>\n",
       "      <td>6.8 (24K)</td>\n",
       "    </tr>\n",
       "    <tr>\n",
       "      <th>9</th>\n",
       "      <td>10. The Last Showgirl</td>\n",
       "      <td>Weekend Gross: $1.5MTotal Gross: $1.5MWeeks Re...</td>\n",
       "      <td>6.7 (2.4K)</td>\n",
       "    </tr>\n",
       "  </tbody>\n",
       "</table>\n",
       "</div>"
      ],
      "text/plain": [
       "                        title  \\\n",
       "0  1. Den of Thieves: Pantera   \n",
       "1    2. Mufasa: The Lion King   \n",
       "2     3. Sonic the Hedgehog 3   \n",
       "3                4. Nosferatu   \n",
       "4                  5. Moana 2   \n",
       "5       6. A Complete Unknown   \n",
       "6           7. Wicked: Part I   \n",
       "7                 8. Babygirl   \n",
       "8             9. Game Changer   \n",
       "9       10. The Last Showgirl   \n",
       "\n",
       "                                              number   rate_vote  \n",
       "0  Weekend Gross: $15MTotal Gross: $16MWeeks Rele...  6.6 (2.7K)  \n",
       "1  Weekend Gross: $14MTotal Gross: $191MWeeks Rel...   6.7 (29K)  \n",
       "2  Weekend Gross: $11MTotal Gross: $206MWeeks Rel...   7.2 (26K)  \n",
       "3  Weekend Gross: $6.9MTotal Gross: $83MWeeks Rel...   7.6 (79K)  \n",
       "4  Weekend Gross: $6.5MTotal Gross: $435MWeeks Re...   7.0 (63K)  \n",
       "5  Weekend Gross: $5.1MTotal Gross: $52MWeeks Rel...   7.8 (12K)  \n",
       "6  Weekend Gross: $5.1MTotal Gross: $459MWeeks Re...  7.8 (104K)  \n",
       "7  Weekend Gross: $3.1MTotal Gross: $22MWeeks Rel...   6.6 (12K)  \n",
       "8  Weekend Gross: $2.1MTotal Gross: $2.1MWeeks Re...   6.8 (24K)  \n",
       "9  Weekend Gross: $1.5MTotal Gross: $1.5MWeeks Re...  6.7 (2.4K)  "
      ]
     },
     "execution_count": 34,
     "metadata": {},
     "output_type": "execute_result"
    }
   ],
   "source": [
    "movie_box = soup.find_all('div', class_ = \"ipc-metadata-list-summary-item__c\")\n",
    "\n",
    "titles = []\n",
    "numbers = []\n",
    "rate_votes = []\n",
    "for box in movie_box:\n",
    "    #titles\n",
    "    if box.find('h3', class_= \"ipc-title__text\") is not None:\n",
    "        title = box.find('h3', class_= \"ipc-title__text\")\n",
    "        titles.append(title.text)\n",
    "    else:\n",
    "        titles.append('None')\n",
    "\n",
    "    #numbers\n",
    "    if box.find('ul', attrs={'data-testid': 'title-metadata-box-office-data-container'}) is not None:\n",
    "        number = box.find('ul', attrs={'data-testid': 'title-metadata-box-office-data-container'}) \n",
    "        numbers.append(number.text)\n",
    "    else:\n",
    "        numbers.append('None')\n",
    "\n",
    "\n",
    "    if box.find('span', attrs={'data-testid': 'ratingGroup--imdb-rating'}) is not None:\n",
    "        rate_vote = box.find('span', attrs={'data-testid': 'ratingGroup--imdb-rating'}) \n",
    "        rate_votes.append(rate_vote.text.replace('\\xa0',' '))\n",
    "    else:\n",
    "        rate_votes.append('None')\n",
    "\n",
    "\n",
    "movie_df = pd.DataFrame({\n",
    "    'title': titles,\n",
    "    'number': numbers,\n",
    "    'rate_vote': rate_votes\n",
    "})\n",
    "\n",
    "movie_df"
   ]
  },
  {
   "cell_type": "code",
   "execution_count": 35,
   "metadata": {},
   "outputs": [
    {
     "data": {
      "text/plain": [
       "'Weekend Gross: $15MTotal Gross: $16MWeeks Released: 1'"
      ]
     },
     "execution_count": 35,
     "metadata": {},
     "output_type": "execute_result"
    }
   ],
   "source": [
    "movie_df.number[0]"
   ]
  },
  {
   "cell_type": "code",
   "execution_count": 36,
   "metadata": {},
   "outputs": [],
   "source": [
    "movie_df['number'] = movie_df['number'].str.replace('Weekend Gross: ','').str.replace('Total Gross: ','|').str.replace('Weeks Released: ','|')\n",
    "movie_df[['weekend gross', 'total gross','weeks released']] = movie_df['number'].str.split('|', expand = True)\n",
    "movie_df[['rating','vote_count']] = movie_df['rate_vote'].str.split(' ', expand = True)\n",
    "movie_df.drop(['number','rate_vote'], axis=1, inplace=True)\n",
    "movie_df.to_csv('movie_data.csv', index=False)\n"
   ]
  }
 ],
 "metadata": {
  "language_info": {
   "name": "python"
  }
 },
 "nbformat": 4,
 "nbformat_minor": 2
}
