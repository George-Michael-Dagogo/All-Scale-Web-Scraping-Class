{
 "cells": [
  {
   "cell_type": "code",
   "execution_count": 11,
   "metadata": {},
   "outputs": [],
   "source": [
    "import requests\n",
    "from bs4 import BeautifulSoup\n",
    "import pandas as pd\n",
    "from fake_useragent import UserAgent"
   ]
  },
  {
   "cell_type": "code",
   "execution_count": null,
   "metadata": {},
   "outputs": [],
   "source": [
    "url = 'https://www.imdb.com/chart/boxoffice/?ref_=nv_ch_cht'\n",
    "ua = UserAgent()\n",
    "userAgent = ua.random\n",
    "headers = {'User-Agent': userAgent}\n",
    "page = requests.get(url, headers = headers)\n",
    "soup = BeautifulSoup(page.content, 'html.parser')\n",
    "soup"
   ]
  },
  {
   "cell_type": "code",
   "execution_count": 37,
   "metadata": {},
   "outputs": [
    {
     "data": {
      "text/html": [
       "<div>\n",
       "<style scoped>\n",
       "    .dataframe tbody tr th:only-of-type {\n",
       "        vertical-align: middle;\n",
       "    }\n",
       "\n",
       "    .dataframe tbody tr th {\n",
       "        vertical-align: top;\n",
       "    }\n",
       "\n",
       "    .dataframe thead th {\n",
       "        text-align: right;\n",
       "    }\n",
       "</style>\n",
       "<table border=\"1\" class=\"dataframe\">\n",
       "  <thead>\n",
       "    <tr style=\"text-align: right;\">\n",
       "      <th></th>\n",
       "      <th>title</th>\n",
       "      <th>number</th>\n",
       "      <th>rating</th>\n",
       "    </tr>\n",
       "  </thead>\n",
       "  <tbody>\n",
       "    <tr>\n",
       "      <th>0</th>\n",
       "      <td>Sinners</td>\n",
       "      <td>Weekend Gross: $48MTotal Gross: $64MWeeks Rele...</td>\n",
       "      <td>8.2(36K)</td>\n",
       "    </tr>\n",
       "    <tr>\n",
       "      <th>1</th>\n",
       "      <td>Minecraft de film</td>\n",
       "      <td>Weekend Gross: $40MTotal Gross: $353MWeeks Rel...</td>\n",
       "      <td>5.9(70K)</td>\n",
       "    </tr>\n",
       "    <tr>\n",
       "      <th>2</th>\n",
       "      <td>The King of Kings</td>\n",
       "      <td>Weekend Gross: $18MTotal Gross: $49MWeeks Rele...</td>\n",
       "      <td>7.5(3.4K)</td>\n",
       "    </tr>\n",
       "    <tr>\n",
       "      <th>3</th>\n",
       "      <td>The Amateur</td>\n",
       "      <td>Weekend Gross: $7MTotal Gross: $29MWeeks Relea...</td>\n",
       "      <td>6.7(14K)</td>\n",
       "    </tr>\n",
       "    <tr>\n",
       "      <th>4</th>\n",
       "      <td>Warfare</td>\n",
       "      <td>Weekend Gross: $4.9MTotal Gross: $17MWeeks Rel...</td>\n",
       "      <td>7.9(12K)</td>\n",
       "    </tr>\n",
       "    <tr>\n",
       "      <th>5</th>\n",
       "      <td>Drop</td>\n",
       "      <td>Weekend Gross: $3.3MTotal Gross: $14MWeeks Rel...</td>\n",
       "      <td>6.5(7.3K)</td>\n",
       "    </tr>\n",
       "    <tr>\n",
       "      <th>6</th>\n",
       "      <td>Gekijô-ban Purojekuto Sekai Kowareta Sekai to ...</td>\n",
       "      <td>Weekend Gross: $2.8MTotal Gross: $2.8MWeeks Re...</td>\n",
       "      <td>6.4(721)</td>\n",
       "    </tr>\n",
       "    <tr>\n",
       "      <th>7</th>\n",
       "      <td>Pride &amp; Prejudice</td>\n",
       "      <td>Weekend Gross: $2.8MTotal Gross: $42MWeeks Rel...</td>\n",
       "      <td>7.8(351K)</td>\n",
       "    </tr>\n",
       "    <tr>\n",
       "      <th>8</th>\n",
       "      <td>Episode #5.6</td>\n",
       "      <td>Weekend Gross: $1.5MTotal Gross: $3.8MWeeks Re...</td>\n",
       "      <td>7.8(151)</td>\n",
       "    </tr>\n",
       "    <tr>\n",
       "      <th>9</th>\n",
       "      <td>Snow White</td>\n",
       "      <td>Weekend Gross: $1.2MTotal Gross: $85MWeeks Rel...</td>\n",
       "      <td>1.6(345K)</td>\n",
       "    </tr>\n",
       "  </tbody>\n",
       "</table>\n",
       "</div>"
      ],
      "text/plain": [
       "                                               title  \\\n",
       "0                                            Sinners   \n",
       "1                                  Minecraft de film   \n",
       "2                                  The King of Kings   \n",
       "3                                        The Amateur   \n",
       "4                                            Warfare   \n",
       "5                                               Drop   \n",
       "6  Gekijô-ban Purojekuto Sekai Kowareta Sekai to ...   \n",
       "7                                  Pride & Prejudice   \n",
       "8                                       Episode #5.6   \n",
       "9                                         Snow White   \n",
       "\n",
       "                                              number     rating  \n",
       "0  Weekend Gross: $48MTotal Gross: $64MWeeks Rele...   8.2(36K)  \n",
       "1  Weekend Gross: $40MTotal Gross: $353MWeeks Rel...   5.9(70K)  \n",
       "2  Weekend Gross: $18MTotal Gross: $49MWeeks Rele...  7.5(3.4K)  \n",
       "3  Weekend Gross: $7MTotal Gross: $29MWeeks Relea...   6.7(14K)  \n",
       "4  Weekend Gross: $4.9MTotal Gross: $17MWeeks Rel...   7.9(12K)  \n",
       "5  Weekend Gross: $3.3MTotal Gross: $14MWeeks Rel...  6.5(7.3K)  \n",
       "6  Weekend Gross: $2.8MTotal Gross: $2.8MWeeks Re...   6.4(721)  \n",
       "7  Weekend Gross: $2.8MTotal Gross: $42MWeeks Rel...  7.8(351K)  \n",
       "8  Weekend Gross: $1.5MTotal Gross: $3.8MWeeks Re...   7.8(151)  \n",
       "9  Weekend Gross: $1.2MTotal Gross: $85MWeeks Rel...  1.6(345K)  "
      ]
     },
     "execution_count": 37,
     "metadata": {},
     "output_type": "execute_result"
    }
   ],
   "source": [
    "movie_box = soup.find_all('div', class_ = \"ipc-metadata-list-summary-item__c\")\n",
    "\n",
    "titles = []\n",
    "numbers = []\n",
    "ratings = []\n",
    "\n",
    "for box in movie_box:\n",
    "    #titles\n",
    "    if box.find('h3', class_ = \"ipc-title__text\") is not None:\n",
    "        title = box.find('h3', class_ = \"ipc-title__text\")\n",
    "        titles.append(title.text)\n",
    "    else:\n",
    "        title.append('None')\n",
    "\n",
    "    #numbers\n",
    "    if box.find('ul', attrs={'data-testid': 'title-metadata-box-office-data-container'}) is not None:\n",
    "        number = box.find('ul', attrs={'data-testid': 'title-metadata-box-office-data-container'})\n",
    "        numbers.append(number.text)\n",
    "    else:\n",
    "        numbers.append('None')\n",
    "\n",
    "    #ratings\n",
    "    if box.find('span', attrs={'data-testid': 'ratingGroup--imdb-rating'}) is not None:\n",
    "        rating = box.find('span', attrs={'data-testid': 'ratingGroup--imdb-rating'})\n",
    "        ratings.append(rating.text.replace('\\xa0', ''))\n",
    "    else:\n",
    "        ratings.append('None')\n",
    "\n",
    "movie_df = pd.DataFrame({\n",
    "    'title': titles,\n",
    "    'number': numbers,\n",
    "    'rating': ratings\n",
    "})\n",
    "\n",
    "movie_df"
   ]
  },
  {
   "cell_type": "code",
   "execution_count": 28,
   "metadata": {},
   "outputs": [
    {
     "data": {
      "text/plain": [
       "'Weekend Gross: $48MTotal Gross: $64MWeeks Released: 1'"
      ]
     },
     "execution_count": 28,
     "metadata": {},
     "output_type": "execute_result"
    }
   ],
   "source": [
    "movie_df.number[0]"
   ]
  },
  {
   "cell_type": "code",
   "execution_count": 38,
   "metadata": {},
   "outputs": [],
   "source": [
    "movie_df['number'] = movie_df['number'].str.replace('Weekend Gross: ','').str.replace('Total Gross: ','|').str.replace('Weeks Released: ','|')\n",
    "\n",
    "movie_df[['weekend gross', 'total gross', 'weeks released']] = movie_df['number'].str.split('|', expand = True)\n",
    "movie_df[['ratings', 'vote_count']] = movie_df['rating'].str.split('(', expand = True)\n",
    "movie_df.drop(['number', 'rating'], axis=1, inplace=True)\n",
    "movie_df['vote_count'] = movie_df['vote_count'].str.replace(')', '')\n",
    "movie_df.to_csv('movie_data.csv', index=False)\n"
   ]
  }
 ],
 "metadata": {
  "language_info": {
   "name": "python"
  }
 },
 "nbformat": 4,
 "nbformat_minor": 2
}
